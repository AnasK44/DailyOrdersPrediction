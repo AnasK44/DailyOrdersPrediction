{
 "cells": [
  {
   "cell_type": "code",
   "execution_count": null,
   "id": "ab44f9f0",
   "metadata": {
    "lines_to_next_cell": 2
   },
   "outputs": [],
   "source": [
    "import numpy as np \n",
    "import pandas as pd \n",
    "import matplotlib.pyplot as plt\n",
    "import xgboost as xgb \n",
    "import seaborn as sns\n",
    "from sklearn.metrics import mean_squared_error\n",
    "from sklearn.model_selection import RandomizedSearchCV, KFold\n",
    "from scipy.stats import uniform,randint\n",
    "from xgboost import plot_importance"
   ]
  },
  {
   "cell_type": "code",
   "execution_count": null,
   "id": "515cb00f",
   "metadata": {
    "lines_to_next_cell": 2
   },
   "outputs": [],
   "source": [
    "pd.set_option('display.max_rows', 500)\n",
    "pd.set_option('display.max_columns', 500)\n",
    "pd.set_option('display.width', 1000)"
   ]
  },
  {
   "cell_type": "code",
   "execution_count": null,
   "id": "acba80eb",
   "metadata": {},
   "outputs": [],
   "source": [
    "path = r'C:\\Users\\LENOVO\\Desktop\\res2.csv';"
   ]
  },
  {
   "cell_type": "code",
   "execution_count": null,
   "id": "e6635808",
   "metadata": {
    "lines_to_next_cell": 2
   },
   "outputs": [],
   "source": [
    "ori = pd.read_csv(path);\n",
    "print(ori.head())\n",
    "ori = pd.DataFrame(ori)\n",
    "ori['Order Date'] = pd.to_datetime(ori['Order Date'] ,dayfirst=True)\n",
    "ori['Order Date'] = ori['Order Date'].dt.date"
   ]
  },
  {
   "cell_type": "code",
   "execution_count": null,
   "id": "e4022c3a",
   "metadata": {},
   "outputs": [],
   "source": [
    "print(ori.head())\n",
    "print(f\"Total number of orders in dataset: {ori['Order ID'].nunique()}\")\n",
    "print(ori.shape)"
   ]
  },
  {
   "cell_type": "code",
   "execution_count": null,
   "id": "08d4d0bb",
   "metadata": {
    "lines_to_next_cell": 2
   },
   "outputs": [],
   "source": []
  },
  {
   "cell_type": "code",
   "execution_count": null,
   "id": "d3d06968",
   "metadata": {},
   "outputs": [],
   "source": [
    "ori.columns = ['Order_ID', 'Date', 'item', 'quantity', 'price', 'total_products_in_cart']\n",
    "print(ori.head())"
   ]
  },
  {
   "cell_type": "code",
   "execution_count": null,
   "id": "06f64029",
   "metadata": {
    "lines_to_next_cell": 1
   },
   "outputs": [],
   "source": [
    "from pandasql import sqldf\n",
    "pysqldf = lambda q : sqldf(q,globals());"
   ]
  },
  {
   "cell_type": "code",
   "execution_count": null,
   "id": "4ece60ac",
   "metadata": {},
   "outputs": [],
   "source": [
    "def load_q(path):\n",
    "    with open(path) as file:\n",
    "        return file.read();"
   ]
  },
  {
   "cell_type": "code",
   "execution_count": null,
   "id": "b34f5b4d",
   "metadata": {},
   "outputs": [],
   "source": [
    "pathq = r'C:\\Users\\LENOVO\\Desktop\\ques\\t2Daily.sql'    \n",
    "query = load_q(pathq);\n",
    "DailyOrders = pysqldf(query);\n",
    "DailyOrders = pd.DataFrame(DailyOrders);"
   ]
  },
  {
   "cell_type": "code",
   "execution_count": null,
   "id": "9fd4591f",
   "metadata": {
    "lines_to_next_cell": 2
   },
   "outputs": [],
   "source": [
    "print(DailyOrders.head());"
   ]
  },
  {
   "cell_type": "code",
   "execution_count": null,
   "id": "07677d4b",
   "metadata": {},
   "outputs": [],
   "source": [
    "plt.rcParams.update({'figure.figsize': (17, 3), 'figure.dpi':300})\n",
    "fig, ax = plt.subplots()\n",
    "sns.lineplot(data=DailyOrders.tail(110), x='date', y='total_number')\n",
    "plt.grid(linestyle='-', linewidth=0.3)\n",
    "ax.tick_params(axis='x', rotation=90)"
   ]
  },
  {
   "cell_type": "code",
   "execution_count": null,
   "id": "ba68b15c",
   "metadata": {},
   "outputs": [],
   "source": []
  },
  {
   "cell_type": "code",
   "execution_count": null,
   "id": "5c5926a8",
   "metadata": {},
   "outputs": [],
   "source": [
    "df = pd.DataFrame(DailyOrders)"
   ]
  },
  {
   "cell_type": "code",
   "execution_count": null,
   "id": "c22b2168",
   "metadata": {},
   "outputs": [],
   "source": [
    "# Convert 'date' column to datetime type\n",
    "df['date'] = pd.to_datetime(df['date'])"
   ]
  },
  {
   "cell_type": "code",
   "execution_count": null,
   "id": "66da55cf",
   "metadata": {},
   "outputs": [],
   "source": [
    "# Set 'date' column as the index\n",
    "df.set_index('date', inplace=True)"
   ]
  },
  {
   "cell_type": "code",
   "execution_count": null,
   "id": "c0764faa",
   "metadata": {
    "lines_to_next_cell": 2
   },
   "outputs": [],
   "source": [
    "# Reindex with a complete date range and fill missing values with zero\n",
    "complete_date_range = pd.date_range(start=df.index.min(), end=df.index.max(), freq='D')\n",
    "df = df.reindex(complete_date_range)"
   ]
  },
  {
   "cell_type": "code",
   "execution_count": null,
   "id": "e922af69",
   "metadata": {},
   "outputs": [],
   "source": [
    "# Plot the chart\n",
    "df.plot(y='total_number', linestyle='solid', figsize=(10, 6))\n",
    "plt.xlabel('Date')\n",
    "plt.ylabel('numer of orders')\n",
    "plt.title('Time line for orders count')\n",
    "plt.show()"
   ]
  },
  {
   "cell_type": "code",
   "execution_count": null,
   "id": "bfabc2d3",
   "metadata": {},
   "outputs": [],
   "source": [
    "DailyOrders = df.reset_index(inplace = False)"
   ]
  },
  {
   "cell_type": "code",
   "execution_count": null,
   "id": "c68d9065",
   "metadata": {},
   "outputs": [],
   "source": [
    "DailyOrders.rename(columns={'index': 'date'}, inplace=True)"
   ]
  },
  {
   "cell_type": "code",
   "execution_count": null,
   "id": "73f68d7c",
   "metadata": {},
   "outputs": [],
   "source": [
    "#filling missing values with zero\n",
    "DailyOrders['total_number'].fillna(0, inplace=True);\n",
    "#Clearly there is one outlier in 2019 somewhere, and also there are a lot of data points missing\n",
    "#Getting the value of yesteday & filtering data because of there're some missing values\n",
    "# we are going to get from greater than aug of 2016\n",
    "DailyOrders['yesterday_number'] = DailyOrders['total_number'].shift(1)\n",
    "DailyOrders['date'] = pd.to_datetime(DailyOrders['date'] ,dayfirst=True)\n",
    "DailyOrders = DailyOrders.loc[DailyOrders['date'] > '2016-08-01']\n",
    "DailyOrders['date'] = DailyOrders['date'].dt.date"
   ]
  },
  {
   "cell_type": "code",
   "execution_count": null,
   "id": "6bde59db",
   "metadata": {
    "lines_to_next_cell": 2
   },
   "outputs": [],
   "source": [
    "print(DailyOrders.head())"
   ]
  },
  {
   "cell_type": "code",
   "execution_count": null,
   "id": "312eebe4",
   "metadata": {},
   "outputs": [],
   "source": [
    "######## create a new column with the date value of the same day last week\n",
    "from datetime import timedelta\n",
    "DailyOrders['last_week_date'] = DailyOrders['date'] - timedelta(days=7)\n",
    "DailyOrders['last_week_date'] = pd.to_datetime(DailyOrders['last_week_date'] ,dayfirst=True)\n",
    "DailyOrders['last_week_date'] = DailyOrders['last_week_date'].dt.date\n",
    "DailyOrders['last_week_value'] = DailyOrders.apply(lambda row: DailyOrders.loc[DailyOrders['date'] == row['last_week_date'], 'total_number'].iloc[0] \n",
    "                                                   if len(DailyOrders.loc[DailyOrders['date'] == row['last_week_date'], 'total_number']) > 0 else 0, axis=1)\n",
    "print(DailyOrders.head())"
   ]
  },
  {
   "cell_type": "code",
   "execution_count": null,
   "id": "9ecdb2c1",
   "metadata": {
    "lines_to_next_cell": 2
   },
   "outputs": [],
   "source": [
    "#getting the sum of the last week \n",
    "DailyOrders['last_week_sum'] = DailyOrders.apply(lambda row: DailyOrders.loc[(DailyOrders['date'] >= row['last_week_date']) & (DailyOrders['date'] < row['date']), 'total_number'].sum(), axis=1)"
   ]
  },
  {
   "cell_type": "code",
   "execution_count": null,
   "id": "5f20e158",
   "metadata": {},
   "outputs": [],
   "source": [
    "DailyOrders['date'] = pd.to_datetime(DailyOrders['date'] ,dayfirst=True)\n",
    "print(DailyOrders.head())"
   ]
  },
  {
   "cell_type": "code",
   "execution_count": null,
   "id": "35f9567b",
   "metadata": {},
   "outputs": [],
   "source": [
    "#Set index\n",
    "DailyOrders = DailyOrders.set_index('date');\n",
    "DailyOrders.index = pd.to_datetime(DailyOrders.index)"
   ]
  },
  {
   "cell_type": "code",
   "execution_count": null,
   "id": "dec9e1c5",
   "metadata": {},
   "outputs": [],
   "source": [
    "#Spliting Data for Train and test \n",
    "train = DailyOrders.loc[DailyOrders.index <'2019-07-01']\n",
    "test = DailyOrders.loc[DailyOrders.index >= '2019-07-01']"
   ]
  },
  {
   "cell_type": "code",
   "execution_count": null,
   "id": "11d885b9",
   "metadata": {
    "lines_to_next_cell": 2
   },
   "outputs": [],
   "source": []
  },
  {
   "cell_type": "code",
   "execution_count": null,
   "id": "2fe3fbb8",
   "metadata": {
    "lines_to_next_cell": 1
   },
   "outputs": [],
   "source": [
    "def create_features(df):\n",
    "    df = df.copy()\n",
    "    df['dayofweek'] = df.index.dayofweek.astype(int)\n",
    "    df['month'] = df.index.month.astype(int)\n",
    "    df['year'] = df.index.year.astype(int)\n",
    "    df['dayofyear'] = df.index.dayofyear.astype(int)\n",
    "    df['dayofmonth'] = df.index.day.astype(int)\n",
    "    df['weekofyear'] = df.index.isocalendar().week.astype(int)\n",
    "    return df"
   ]
  },
  {
   "cell_type": "code",
   "execution_count": null,
   "id": "51867347",
   "metadata": {},
   "outputs": [],
   "source": [
    "df = create_features(DailyOrders)\n",
    "train = create_features(train)\n",
    "test = create_features(test)"
   ]
  },
  {
   "cell_type": "code",
   "execution_count": null,
   "id": "090b1d51",
   "metadata": {
    "lines_to_next_cell": 2
   },
   "outputs": [],
   "source": [
    "print(df.head())"
   ]
  },
  {
   "cell_type": "code",
   "execution_count": null,
   "id": "a78ab186",
   "metadata": {
    "lines_to_next_cell": 2
   },
   "outputs": [],
   "source": [
    "FEATURES = ['yesterday_number','last_week_sum', 'last_week_value','dayofyear', 'weekofyear', 'dayofweek', 'month','year','dayofmonth']\n",
    "TARGET = 'total_number'"
   ]
  },
  {
   "cell_type": "code",
   "execution_count": null,
   "id": "bafe523c",
   "metadata": {},
   "outputs": [],
   "source": [
    "X_old = df[FEATURES]\n",
    "y_old = df[TARGET]"
   ]
  },
  {
   "cell_type": "code",
   "execution_count": null,
   "id": "c38c9375",
   "metadata": {},
   "outputs": [],
   "source": []
  },
  {
   "cell_type": "code",
   "execution_count": null,
   "id": "173e751e",
   "metadata": {},
   "outputs": [],
   "source": [
    "#############################LET's go inital model#############################\n",
    "reg = xgb.XGBRegressor()"
   ]
  },
  {
   "cell_type": "code",
   "execution_count": null,
   "id": "50ebd95c",
   "metadata": {
    "lines_to_next_cell": 2
   },
   "outputs": [],
   "source": [
    "reg.fit(X_old, y_old , eval_set=[(X_old, y_old)])"
   ]
  },
  {
   "cell_type": "code",
   "execution_count": null,
   "id": "9c1a1a52",
   "metadata": {},
   "outputs": [],
   "source": [
    "# get feature importance and ranking\n",
    "important_values = reg.feature_importances_\n",
    "sorted_idx = np.argsort(important_values)[::-1]\n",
    "print(important_values)"
   ]
  },
  {
   "cell_type": "code",
   "execution_count": null,
   "id": "30a6133f",
   "metadata": {},
   "outputs": [],
   "source": [
    "# Plot feature importance\n",
    "xgb.plot_importance(reg)"
   ]
  },
  {
   "cell_type": "code",
   "execution_count": null,
   "id": "9de5f06d",
   "metadata": {},
   "outputs": [],
   "source": [
    "# remove features with importance = 0\n",
    "important_var_gain = [(X_old.columns[index], important_values[index]) for index in sorted_idx if important_values[index] > 0]\n",
    "# we have 400 features with importance value>0\n",
    "len(important_var_gain)"
   ]
  },
  {
   "cell_type": "code",
   "execution_count": null,
   "id": "a66c35d6",
   "metadata": {},
   "outputs": [],
   "source": [
    "# restructure data and refit\n",
    "important_varlist = [it[0] for it in important_var_gain]\n",
    "print(important_varlist)"
   ]
  },
  {
   "cell_type": "markdown",
   "id": "60df82b2",
   "metadata": {},
   "source": [
    "###############################Splitting #####################################"
   ]
  },
  {
   "cell_type": "code",
   "execution_count": null,
   "id": "429d2c2f",
   "metadata": {},
   "outputs": [],
   "source": [
    "X_train = train[important_varlist]\n",
    "y_train = train[TARGET]"
   ]
  },
  {
   "cell_type": "code",
   "execution_count": null,
   "id": "07c67d03",
   "metadata": {},
   "outputs": [],
   "source": [
    "X_test = test[important_varlist]\n",
    "y_test = test[TARGET]"
   ]
  },
  {
   "cell_type": "code",
   "execution_count": null,
   "id": "18f4847e",
   "metadata": {},
   "outputs": [],
   "source": []
  },
  {
   "cell_type": "code",
   "execution_count": null,
   "id": "86e315e4",
   "metadata": {},
   "outputs": [],
   "source": [
    "###Plotting \n",
    "fig, ax = plt.subplots(figsize=(15, 5))\n",
    "pd.DataFrame(train[train.index >= '2019-01-01']).plot( y='total_number',ax=ax,label='Training Set', title='Data Train/Test Split',)\n",
    "pd.DataFrame(test).plot( y='total_number',ax=ax ,label='Test Set')\n",
    "ax.axvline('2019-07-01', color='black', ls='--')\n",
    "ax.legend(['Training Set', 'Test Set'])\n",
    "plt.show()       "
   ]
  },
  {
   "cell_type": "code",
   "execution_count": null,
   "id": "8bbb4a04",
   "metadata": {
    "lines_to_next_cell": 2
   },
   "outputs": [],
   "source": [
    "print(test.shape)"
   ]
  },
  {
   "cell_type": "code",
   "execution_count": null,
   "id": "3cbe95de",
   "metadata": {},
   "outputs": [],
   "source": [
    "########################### RandomizedSearchCV ################################\n",
    "from sklearn.model_selection import RandomizedSearchCV, KFold\n",
    "from scipy.stats import uniform,randint"
   ]
  },
  {
   "cell_type": "code",
   "execution_count": null,
   "id": "ccec4b2e",
   "metadata": {},
   "outputs": [],
   "source": [
    "xgbreg = xgb.XGBRegressor(objective = 'reg:squarederror')\n",
    "param_dist = {'n_estimators': randint(1000, 3000),\n",
    "              'learning_rate': uniform(0.01, 0.06),\n",
    "              'subsample': [0.5, 0.7, 0.75, 0.8, 0.85, 0.9, 0.95],\n",
    "              'max_depth': [3, 4, 5, 6, 7, 8, 9, 10],\n",
    "              'gamma' : [0, 0.1, 0.2, 0.3, 0.5, 0.7, 0.9],\n",
    "              'colsample_bytree': [0.5, 0.7, 0.75, 0.8, 0.85, 0.9, 0.95, 0.99],\n",
    "              'min_child_weight': [1, 2, 3, 5, 7],\n",
    "              'reg_alpha' : [0,1,2,3,4,5,6,7,8,9,10],\n",
    "              'reg_lambda' : [0,1,2,3,4,5,6,7,8,9,10]\n",
    "             }"
   ]
  },
  {
   "cell_type": "markdown",
   "id": "ac5d1459",
   "metadata": {},
   "source": [
    "verbose: integer\n",
    "Controls the verbosity: the higher, the more messages."
   ]
  },
  {
   "cell_type": "code",
   "execution_count": null,
   "id": "2ede46b0",
   "metadata": {},
   "outputs": [],
   "source": [
    "regcv = RandomizedSearchCV(xgbreg, param_distributions = param_dist, \n",
    "    n_iter = 25, scoring = 'r2', cv = 3,\n",
    "    error_score = 0, verbose = 10, n_jobs = -1)"
   ]
  },
  {
   "cell_type": "code",
   "execution_count": null,
   "id": "4929e836",
   "metadata": {},
   "outputs": [],
   "source": [
    "search = regcv.fit(X_train, y_train)"
   ]
  },
  {
   "cell_type": "code",
   "execution_count": null,
   "id": "d5e6b6c3",
   "metadata": {},
   "outputs": [],
   "source": [
    "search.best_params_"
   ]
  },
  {
   "cell_type": "code",
   "execution_count": null,
   "id": "49846b83",
   "metadata": {},
   "outputs": [],
   "source": [
    "######################### Actual Model ########################################\n",
    "reg = xgb.XGBRegressor(objective = 'reg:squarederror',\n",
    "                  \n",
    "                      learning_rate=0.010286668188327738,\n",
    "                      gamma = 0 ,\n",
    "                      reg_alpha= 10,  \n",
    "                      reg_lambda= 4,\n",
    "                      colsample_bytree= 0.85,\n",
    "                      max_depth =  7,\n",
    "                      min_child_weight = 1,\n",
    "                      n_estimators= 1078,\n",
    "                      booster='gbtree',\n",
    "                      subsample = 0.7\n",
    " )"
   ]
  },
  {
   "cell_type": "code",
   "execution_count": null,
   "id": "71592122",
   "metadata": {},
   "outputs": [],
   "source": [
    "reg.fit(X_train, y_train, early_stopping_rounds=100, \n",
    "        eval_metric=\"mae\", eval_set=[(X_test, y_test)])"
   ]
  },
  {
   "cell_type": "code",
   "execution_count": null,
   "id": "12f741e3",
   "metadata": {},
   "outputs": [],
   "source": []
  },
  {
   "cell_type": "code",
   "execution_count": null,
   "id": "9267f452",
   "metadata": {},
   "outputs": [],
   "source": [
    "y_pred = reg.predict(X_test)"
   ]
  },
  {
   "cell_type": "code",
   "execution_count": null,
   "id": "56f791f8",
   "metadata": {},
   "outputs": [],
   "source": [
    "################## R2 score ##############################\n",
    "#Calculate the R² score of the predictions on the testing data\n",
    "r2_score = reg.score(X_test, y_test)\n",
    "#Convert R² to percentage accuracy\n",
    "percentage_accuracy = r2_score * 100\n",
    "print(\"Percentage accuracy: {:.2f}%\".format(percentage_accuracy))\n",
    "from sklearn.metrics import r2_score\n",
    "print(r2_score(y_test, y_pred)*100)\n",
    "## 82%"
   ]
  },
  {
   "cell_type": "code",
   "execution_count": null,
   "id": "7cf1dc93",
   "metadata": {},
   "outputs": [],
   "source": [
    "########### MSE ##############\n",
    "from sklearn.metrics import mean_squared_error\n",
    "mse = mean_squared_error(y_test, y_pred)\n",
    "print(\"MSE:\", mse)"
   ]
  },
  {
   "cell_type": "code",
   "execution_count": null,
   "id": "39330d3b",
   "metadata": {},
   "outputs": [],
   "source": [
    "################ RMSE ############\n",
    "from sklearn.metrics import mean_absolute_error\n",
    "mae = mean_absolute_error(y_test, y_pred)\n",
    "print(\"MAE:\", mae) ## 20\n",
    "print(\"RMSE\" , np.sqrt(mse))"
   ]
  },
  {
   "cell_type": "code",
   "execution_count": null,
   "id": "aeafd732",
   "metadata": {},
   "outputs": [],
   "source": [
    "########## MEAN #############\n",
    "accuracy = 100 * (1 - mae/y_pred.mean())\n",
    "print(f\"The accuracy  MEAN of the XGBoost model is {accuracy:.2f}%\");"
   ]
  },
  {
   "cell_type": "code",
   "execution_count": null,
   "id": "903204c0",
   "metadata": {},
   "outputs": [],
   "source": []
  },
  {
   "cell_type": "code",
   "execution_count": null,
   "id": "038de1d9",
   "metadata": {},
   "outputs": [],
   "source": [
    "################## PLOTTING predicted vs actual #####################\n",
    "test.reset_index(inplace = True)"
   ]
  },
  {
   "cell_type": "code",
   "execution_count": null,
   "id": "b5485ac5",
   "metadata": {
    "lines_to_next_cell": 2
   },
   "outputs": [],
   "source": [
    "new_df = test.copy();"
   ]
  },
  {
   "cell_type": "code",
   "execution_count": null,
   "id": "267efafa",
   "metadata": {},
   "outputs": [],
   "source": [
    "y_pred = pd.Series(y_pred)\n",
    "new_df['predicted'] = y_pred.values"
   ]
  },
  {
   "cell_type": "code",
   "execution_count": null,
   "id": "39ed6713",
   "metadata": {},
   "outputs": [],
   "source": [
    "fig, ax = plt.subplots(figsize=(10, 5))\n",
    "pd.DataFrame(test).plot(x='date', y = 'total_number',ax=ax,label='Real Data', title='Predicted Data/Real Data')\n",
    "pd.DataFrame(new_df).plot(x='date', y = 'predicted',ax=ax ,label='Predicted')\n",
    "ax.legend(['Real Data', 'Predicted Data'])\n",
    "plt.show()   "
   ]
  },
  {
   "cell_type": "code",
   "execution_count": null,
   "id": "84a4621e",
   "metadata": {},
   "outputs": [],
   "source": []
  },
  {
   "cell_type": "code",
   "execution_count": null,
   "id": "eb02f797",
   "metadata": {},
   "outputs": [],
   "source": [
    "import pickle\n",
    "with open('orders.pkl', 'wb') as f:\n",
    "    pickle.dump(reg, f)"
   ]
  },
  {
   "cell_type": "code",
   "execution_count": null,
   "id": "aca9d651",
   "metadata": {
    "lines_to_next_cell": 2
   },
   "outputs": [],
   "source": []
  }
 ],
 "metadata": {
  "jupytext": {
   "cell_metadata_filter": "-all",
   "main_language": "python",
   "notebook_metadata_filter": "-all"
  }
 },
 "nbformat": 4,
 "nbformat_minor": 5
}
